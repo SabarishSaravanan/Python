{
 "cells": [
  {
   "cell_type": "code",
   "execution_count": 22,
   "id": "3206c607",
   "metadata": {},
   "outputs": [],
   "source": [
    "def display_board(board):\n",
    "    print(' '+board[7]+'|'+board[8]+'|'+board[9])\n",
    "    print('--------')\n",
    "    print(' '+board[4]+'|'+board[5]+'|'+board[6])\n",
    "    print('--------')\n",
    "    print(' '+board[1]+'|'+board[2]+'|'+board[3])\n",
    "def player_input():\n",
    "    player1=input(\"You want to be X or 0: \")\n",
    "    player1 =player1.upper()\n",
    "    while player1!=\"X\" and player1!=\"O\":\n",
    "        player1=input(\"Invalid Input,Enter X or O: \")\n",
    "        player1 =player1.upper()\n",
    "    print(\"player1 is \"+player1)\n",
    "    \n",
    "    \n",
    "    if player1=='X':\n",
    "        player2='O'\n",
    "        print(\"player2 is O\")\n",
    "    else:\n",
    "        player2='X'\n",
    "        print(\"player2 is X\")\n",
    "    return player1,player2\n",
    "def place_marker(board, player1, position):\n",
    "    board[position]=player1"
   ]
  },
  {
   "cell_type": "code",
   "execution_count": 23,
   "id": "50c6a32b",
   "metadata": {},
   "outputs": [
    {
     "name": "stdout",
     "output_type": "stream",
     "text": [
      " X|O|X\n",
      "--------\n",
      " O|X|O\n",
      "--------\n",
      " X|O|X\n",
      "You want to be X or 0: o\n",
      "player1 is O\n",
      "player2 is X\n"
     ]
    },
    {
     "data": {
      "text/plain": [
       "('O', 'X')"
      ]
     },
     "execution_count": 23,
     "metadata": {},
     "output_type": "execute_result"
    }
   ],
   "source": [
    "board=['#','X','O','X','O','X','O','X','O','X']\n",
    "display_board(board)\n",
    "player_input()"
   ]
  },
  {
   "cell_type": "code",
   "execution_count": 18,
   "id": "ea1e13f3",
   "metadata": {},
   "outputs": [],
   "source": [
    "def place_marker(board, player1, position):\n",
    "    board[position]=player1"
   ]
  },
  {
   "cell_type": "code",
   "execution_count": 20,
   "id": "6ee72ef2",
   "metadata": {},
   "outputs": [
    {
     "name": "stdout",
     "output_type": "stream",
     "text": [
      " X|O|X\n",
      "--------\n",
      " O|X|O\n",
      "--------\n",
      " X|O|X\n",
      "You want to be X or 0: o\n",
      "player1 is O\n",
      "player2 is X\n"
     ]
    }
   ],
   "source": [
    "board=['#','X','O','X','O','X','O','X','O','X']\n",
    "display_board(board)\n",
    "player_input()\n",
    "place_marker(board,'$',8)"
   ]
  },
  {
   "cell_type": "code",
   "execution_count": 21,
   "id": "b4a91dd4",
   "metadata": {},
   "outputs": [],
   "source": [
    "\n",
    "place_marker(board,'$',8)"
   ]
  },
  {
   "cell_type": "code",
   "execution_count": 8,
   "id": "f3256021",
   "metadata": {},
   "outputs": [],
   "source": [
    "place_marker(board,\"&\",8)"
   ]
  },
  {
   "cell_type": "code",
   "execution_count": 24,
   "id": "0de82000",
   "metadata": {},
   "outputs": [
    {
     "name": "stdout",
     "output_type": "stream",
     "text": [
      " X|O|X\n",
      "--------\n",
      " O|X|O\n",
      "--------\n",
      " X|O|X\n",
      "You want to be X or 0: x\n",
      "player1 is X\n",
      "player2 is O\n",
      " X|O|X\n",
      "--------\n",
      " O|X|O\n",
      "--------\n",
      " X|O|X\n"
     ]
    }
   ],
   "source": [
    "# Display the empty board\n",
    "display_board(board)\n",
    "\n",
    "# Get player choices\n",
    "player1_choice, player2_choice = player_input()\n",
    "\n",
    "# Player 1, choose a position (1-9): 5\n",
    "# Player 2, choose a position (1-9): 1\n",
    "\n",
    "# Display the updated board\n",
    "display_board(board)\n"
   ]
  },
  {
   "cell_type": "code",
   "execution_count": 25,
   "id": "d3690205",
   "metadata": {},
   "outputs": [],
   "source": [
    "def display_board(board):\n",
    "    print(' '+board[7]+'|'+board[8]+'|'+board[9])\n",
    "    print('--------')\n",
    "    print(' '+board[4]+'|'+board[5]+'|'+board[6])\n",
    "    print('--------')\n",
    "    print(' '+board[1]+'|'+board[2]+'|'+board[3])\n",
    "def player_input():\n",
    "    player1=input(\"You want to be X or 0: \")\n",
    "    player1 =player1.upper()\n",
    "    while player1!=\"X\" and player1!=\"O\":\n",
    "        player1=input(\"Invalid Input,Enter X or O: \")\n",
    "        player1 =player1.upper()\n",
    "    print(\"player1 is \"+player1)\n",
    "    \n",
    "    \n",
    "    if player1=='X':\n",
    "        player2='O'\n",
    "        print(\"player2 is O\")\n",
    "    else:\n",
    "        player2='X'\n",
    "        print(\"player2 is X\")\n",
    "    return player1,player2\n",
    "def place_marker(board, player1, position):\n",
    "    board[position]=player1"
   ]
  },
  {
   "cell_type": "code",
   "execution_count": null,
   "id": "c665db14",
   "metadata": {},
   "outputs": [
    {
     "name": "stdout",
     "output_type": "stream",
     "text": [
      " X|$|X\n",
      "--------\n",
      " O|X|O\n",
      "--------\n",
      " X|O|X\n"
     ]
    }
   ],
   "source": [
    "display_board(board)\n",
    "player_input()\n",
    "place_marker(board,'$',8)\n",
    "display_board(board)"
   ]
  },
  {
   "cell_type": "code",
   "execution_count": 31,
   "id": "c05800e8",
   "metadata": {},
   "outputs": [],
   "source": [
    "def win_check(board, mark):\n",
    "    return ((board[1] == mark and board[2] == mark and board[3] == mark) or\n",
    "            (board[4] == mark and board[5] == mark and board[6] == mark) or\n",
    "            (board[7] == mark and board[8] == mark and board[9] == mark) or\n",
    "            (board[1] == mark and board[4] == mark and board[7] == mark) or\n",
    "            (board[2] == mark and board[5] == mark and board[8] == mark) or\n",
    "            (board[3] == mark and board[6] == mark and board[9] == mark) or\n",
    "            (board[7] == mark and board[5] == mark and board[3] == mark) or\n",
    "            (board[1] == mark and board[5] == mark and board[9] == mark))\n",
    "\n",
    "\n",
    "    "
   ]
  },
  {
   "cell_type": "code",
   "execution_count": 32,
   "id": "f6dbb72e",
   "metadata": {},
   "outputs": [
    {
     "data": {
      "text/plain": [
       "True"
      ]
     },
     "execution_count": 32,
     "metadata": {},
     "output_type": "execute_result"
    }
   ],
   "source": [
    "win_check(board,\"X\")"
   ]
  },
  {
   "cell_type": "code",
   "execution_count": 33,
   "id": "a345d9da",
   "metadata": {},
   "outputs": [],
   "source": [
    "import random\n",
    "\n",
    "def choose_first():\n",
    "    if random.randint(0, 1) == 0:\n",
    "        return 'Player 2'\n",
    "    else:\n",
    "        return 'Player 1'"
   ]
  },
  {
   "cell_type": "code",
   "execution_count": 34,
   "id": "65d9330a",
   "metadata": {},
   "outputs": [
    {
     "data": {
      "text/plain": [
       "'Player 2'"
      ]
     },
     "execution_count": 34,
     "metadata": {},
     "output_type": "execute_result"
    }
   ],
   "source": [
    "choose_first()"
   ]
  },
  {
   "cell_type": "code",
   "execution_count": 35,
   "id": "00b6534c",
   "metadata": {},
   "outputs": [
    {
     "data": {
      "text/plain": [
       "'Player 1'"
      ]
     },
     "execution_count": 35,
     "metadata": {},
     "output_type": "execute_result"
    }
   ],
   "source": [
    "\n",
    "choose_first()"
   ]
  },
  {
   "cell_type": "code",
   "execution_count": 36,
   "id": "7046604d",
   "metadata": {},
   "outputs": [
    {
     "data": {
      "text/plain": [
       "'Player 2'"
      ]
     },
     "execution_count": 36,
     "metadata": {},
     "output_type": "execute_result"
    }
   ],
   "source": [
    "choose_first()"
   ]
  },
  {
   "cell_type": "code",
   "execution_count": null,
   "id": "7fe2691f",
   "metadata": {},
   "outputs": [],
   "source": [
    "def display_board(board):\n",
    "    print(' '+board[7]+'|'+board[8]+'|'+board[9])\n",
    "    print('--------')\n",
    "    print(' '+board[4]+'|'+board[5]+'|'+board[6])\n",
    "    print('--------')\n",
    "    print(' '+board[1]+'|'+board[2]+'|'+board[3])\n",
    "def player_input():\n",
    "    player1=input(\"You want to be X or 0: \")\n",
    "    player1 =player1.upper()\n",
    "    while player1!=\"X\" and player1!=\"O\":\n",
    "        player1=input(\"Invalid Input,Enter X or O: \")\n",
    "        player1 =player1.upper()\n",
    "    print(\"player1 is \"+player1)\n",
    "    \n",
    "    \n",
    "    if player1=='X':\n",
    "        player2='O'\n",
    "        print(\"player2 is O\")\n",
    "    else:\n",
    "        player2='X'\n",
    "        print(\"player2 is X\")\n",
    "    return player1,player2\n",
    "def place_marker(board, player1, position):\n",
    "    board[position]=player1\n",
    "def win_check(board, mark):\n",
    "    return ((board[1] == mark and board[2] == mark and board[3] == mark) or\n",
    "            (board[4] == mark and board[5] == mark and board[6] == mark) or\n",
    "            (board[7] == mark and board[8] == mark and board[9] == mark) or\n",
    "            (board[1] == mark and board[4] == mark and board[7] == mark) or\n",
    "            (board[2] == mark and board[5] == mark and board[8] == mark) or\n",
    "            (board[3] == mark and board[6] == mark and board[9] == mark) or\n",
    "            (board[7] == mark and board[5] == mark and board[3] == mark) or\n",
    "            (board[1] == mark and board[5] == mark and board[9] == mark))\n",
    "import random\n",
    "\n",
    "def choose_first():\n",
    "    if random.randint(0, 1) == 0:\n",
    "        return 'Player 2'\n",
    "    else:\n",
    "        return 'Player 1'"
   ]
  },
  {
   "cell_type": "code",
   "execution_count": null,
   "id": "cb487ae0",
   "metadata": {},
   "outputs": [],
   "source": [
    "display_board(board)\n",
    "player_input()\n",
    "place_marker(board,'$',8)\n",
    "display_board(board)"
   ]
  },
  {
   "cell_type": "code",
   "execution_count": 4,
   "id": "c41bc8c7",
   "metadata": {},
   "outputs": [],
   "source": [
    "def space_check(board, position):\n",
    "    return board==\" \""
   ]
  },
  {
   "cell_type": "code",
   "execution_count": null,
   "id": "1c64c8a8",
   "metadata": {},
   "outputs": [],
   "source": []
  }
 ],
 "metadata": {
  "kernelspec": {
   "display_name": "Python 3 (ipykernel)",
   "language": "python",
   "name": "python3"
  },
  "language_info": {
   "codemirror_mode": {
    "name": "ipython",
    "version": 3
   },
   "file_extension": ".py",
   "mimetype": "text/x-python",
   "name": "python",
   "nbconvert_exporter": "python",
   "pygments_lexer": "ipython3",
   "version": "3.11.4"
  }
 },
 "nbformat": 4,
 "nbformat_minor": 5
}
