{
 "cells": [
  {
   "cell_type": "code",
   "execution_count": 4,
   "id": "58abbc23",
   "metadata": {},
   "outputs": [],
   "source": [
    "from IPython.display import clear_output\n",
    "def user_choice():\n",
    "    \n",
    "    # This original choice value can be anything that isn't an integer\n",
    "    choice = 'wrong'\n",
    "    \n",
    "    # While the choice is not a digit, keep asking for input.\n",
    "    while choice not in ['0','1','2']:\n",
    "        \n",
    "        # we shouldn't convert here, otherwise we get an error on a wrong input\n",
    "        choice = input(\"Choose one of these numbers (0,1,2): \")\n",
    "        \n",
    "        if choice not in ['0','1','2']:\n",
    "            # THIS CLEARS THE CURRENT OUTPUT BELOW THE CELL\n",
    "            clear_output()\n",
    "            \n",
    "            print(\"Sorry, but you did not choose a value in the correct range (0,1,2)\")\n",
    "            \n",
    "    \n",
    "    # Optionally you can clear everything after running the function\n",
    "    # clear_output()\n",
    "    \n",
    "    # We can convert once the while loop above has confirmed we have a digit.\n",
    "    return int(choice)"
   ]
  },
  {
   "cell_type": "code",
   "execution_count": 5,
   "id": "94f4ad54",
   "metadata": {},
   "outputs": [
    {
     "name": "stdout",
     "output_type": "stream",
     "text": [
      "Sorry, but you did not choose a value in the correct range (0,1,2)\n",
      "Choose one of these numbers (0,1,2): 2\n"
     ]
    },
    {
     "data": {
      "text/plain": [
       "2"
      ]
     },
     "execution_count": 5,
     "metadata": {},
     "output_type": "execute_result"
    }
   ],
   "source": [
    "user_choice()"
   ]
  },
  {
   "cell_type": "code",
   "execution_count": 3,
   "id": "3b049347",
   "metadata": {},
   "outputs": [],
   "source": [
    "def display_board(board):\n",
    "    print(' '+board[7]+'|'+board[8]+'|'+board[9])\n",
    "    print('--------')\n",
    "    print(' '+board[4]+'|'+board[5]+'|'+board[6])\n",
    "    print('--------')\n",
    "    print(' '+board[1]+'|'+board[2]+'|'+board[3])"
   ]
  },
  {
   "cell_type": "code",
   "execution_count": 4,
   "id": "5efa8ec4",
   "metadata": {},
   "outputs": [],
   "source": [
    "board=[' ',' ',' ',' ',' ',' ',' ',' ',' ',' ']"
   ]
  },
  {
   "cell_type": "code",
   "execution_count": 5,
   "id": "6f470fe0",
   "metadata": {},
   "outputs": [
    {
     "name": "stdout",
     "output_type": "stream",
     "text": [
      "  | | \n",
      "--------\n",
      "  | | \n",
      "--------\n",
      "  | | \n"
     ]
    }
   ],
   "source": [
    "display_board(board)"
   ]
  },
  {
   "cell_type": "code",
   "execution_count": 6,
   "id": "f5215b51",
   "metadata": {},
   "outputs": [],
   "source": [
    "from IPython.display import clear_output\n",
    "\n",
    "def player_input():\n",
    "    player1=input(\"You want to be X or 0: \")\n",
    "    player1 =player1.upper()\n",
    "    \n",
    "    while player1!=\"X\" and player1!=\"O\":\n",
    "        clear_output()\n",
    "        player1=input(\"Invalid Input,Enter X or O: \")\n",
    "        player1 =player1.upper()\n",
    "        \n",
    "    print(\"player1 is \"+player1)\n",
    "    \n",
    "    if player1=='X':\n",
    "        player2='O'\n",
    "        print(\"player2 is O\")\n",
    "    else:\n",
    "        player2='X'\n",
    "        print(\"player2 is X\")\n",
    "    return player1,player2"
   ]
  },
  {
   "cell_type": "code",
   "execution_count": 7,
   "id": "2054011b",
   "metadata": {},
   "outputs": [
    {
     "name": "stdout",
     "output_type": "stream",
     "text": [
      "You want to be X or 0: x\n",
      "player1 is X\n",
      "player2 is O\n"
     ]
    },
    {
     "data": {
      "text/plain": [
       "('X', 'O')"
      ]
     },
     "execution_count": 7,
     "metadata": {},
     "output_type": "execute_result"
    }
   ],
   "source": [
    "player_input()"
   ]
  },
  {
   "cell_type": "code",
   "execution_count": 8,
   "id": "1554807d",
   "metadata": {},
   "outputs": [],
   "source": [
    "def place_marker(board, marker, position):\n",
    "    board[position]=marker\n",
    "    display_board(board)"
   ]
  },
  {
   "cell_type": "code",
   "execution_count": 9,
   "id": "c72c6a9c",
   "metadata": {},
   "outputs": [
    {
     "name": "stdout",
     "output_type": "stream",
     "text": [
      "  | | \n",
      "--------\n",
      "  | | \n",
      "--------\n",
      "  | |X\n"
     ]
    }
   ],
   "source": [
    "place_marker(board,\"X\",3)"
   ]
  },
  {
   "cell_type": "code",
   "execution_count": 10,
   "id": "24ca44ee",
   "metadata": {},
   "outputs": [],
   "source": [
    "def win_check(board, mark):\n",
    "    return ((board[1] == mark and board[2] == mark and board[3] == mark) or\n",
    "            (board[4] == mark and board[5] == mark and board[6] == mark) or\n",
    "            (board[7] == mark and board[8] == mark and board[9] == mark) or\n",
    "            (board[1] == mark and board[4] == mark and board[7] == mark) or\n",
    "            (board[2] == mark and board[5] == mark and board[8] == mark) or\n",
    "            (board[3] == mark and board[6] == mark and board[9] == mark) or\n",
    "            (board[7] == mark and board[5] == mark and board[3] == mark) or\n",
    "            (board[1] == mark and board[5] == mark and board[9] == mark))"
   ]
  },
  {
   "cell_type": "code",
   "execution_count": 11,
   "id": "ab8be390",
   "metadata": {},
   "outputs": [
    {
     "data": {
      "text/plain": [
       "False"
      ]
     },
     "execution_count": 11,
     "metadata": {},
     "output_type": "execute_result"
    }
   ],
   "source": [
    "win_check(board,\"X\")"
   ]
  },
  {
   "cell_type": "code",
   "execution_count": 51,
   "id": "41acf17f",
   "metadata": {},
   "outputs": [],
   "source": [
    "board = ['#','X','O','X','O','X','O','X','O','X']"
   ]
  },
  {
   "cell_type": "code",
   "execution_count": 52,
   "id": "2efdc679",
   "metadata": {},
   "outputs": [
    {
     "name": "stdout",
     "output_type": "stream",
     "text": [
      " X|O|X\n",
      "--------\n",
      " O|X|O\n",
      "--------\n",
      " X|O|X\n"
     ]
    }
   ],
   "source": [
    "display_board(board)"
   ]
  },
  {
   "cell_type": "code",
   "execution_count": 53,
   "id": "0e11b4a3",
   "metadata": {},
   "outputs": [],
   "source": [
    "import random\n",
    "def choose_first():\n",
    "    a=random.randint(0,1)\n",
    "    if a == 0:\n",
    "       return \"player 1\"\n",
    "    else:\n",
    "       return \"player 2\"\n"
   ]
  },
  {
   "cell_type": "code",
   "execution_count": 54,
   "id": "06b628fe",
   "metadata": {},
   "outputs": [
    {
     "data": {
      "text/plain": [
       "'player 1'"
      ]
     },
     "execution_count": 54,
     "metadata": {},
     "output_type": "execute_result"
    }
   ],
   "source": [
    "choose_first()"
   ]
  },
  {
   "cell_type": "code",
   "execution_count": 55,
   "id": "24f98e5a",
   "metadata": {},
   "outputs": [],
   "source": [
    "def space_check(board, position):\n",
    "    if board[position] == ' ':\n",
    "        return True"
   ]
  },
  {
   "cell_type": "code",
   "execution_count": 56,
   "id": "974e9ff8",
   "metadata": {},
   "outputs": [],
   "source": [
    "space_check(board,9)"
   ]
  },
  {
   "cell_type": "code",
   "execution_count": 57,
   "id": "dfe3fb11",
   "metadata": {},
   "outputs": [],
   "source": [
    "def full_board_check(board):\n",
    "    for i in range(1,10):\n",
    "        if space_check(board, i):\n",
    "            return False\n",
    "        return True"
   ]
  },
  {
   "cell_type": "code",
   "execution_count": 58,
   "id": "3a12e4b1",
   "metadata": {},
   "outputs": [
    {
     "data": {
      "text/plain": [
       "True"
      ]
     },
     "execution_count": 58,
     "metadata": {},
     "output_type": "execute_result"
    }
   ],
   "source": [
    "full_board_check(board)"
   ]
  },
  {
   "cell_type": "code",
   "execution_count": null,
   "id": "4fbfed4c",
   "metadata": {},
   "outputs": [],
   "source": []
  },
  {
   "cell_type": "code",
   "execution_count": null,
   "id": "273c24f5",
   "metadata": {},
   "outputs": [],
   "source": []
  }
 ],
 "metadata": {
  "kernelspec": {
   "display_name": "Python 3 (ipykernel)",
   "language": "python",
   "name": "python3"
  },
  "language_info": {
   "codemirror_mode": {
    "name": "ipython",
    "version": 3
   },
   "file_extension": ".py",
   "mimetype": "text/x-python",
   "name": "python",
   "nbconvert_exporter": "python",
   "pygments_lexer": "ipython3",
   "version": "3.11.4"
  }
 },
 "nbformat": 4,
 "nbformat_minor": 5
}
