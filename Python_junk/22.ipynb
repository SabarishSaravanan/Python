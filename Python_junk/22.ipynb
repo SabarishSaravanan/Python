{
 "cells": [
  {
   "cell_type": "code",
   "execution_count": 1,
   "id": "76d22cbe",
   "metadata": {},
   "outputs": [
    {
     "name": "stdout",
     "output_type": "stream",
     "text": [
      "2\n",
      "3\n",
      "4\n"
     ]
    }
   ],
   "source": [
    "if __name__ == '__main__':\n",
    "\n",
    "    N = int(input())\n",
    "\n",
    "    List=[];\n",
    "\n",
    "    for i in range(N):\n",
    "\n",
    "        command=input().split();\n",
    "\n",
    "        if command[0] == \"insert\":\n",
    "\n",
    "            List.insert(int(command[1]),int(command[2]))\n",
    "\n",
    "        elif command[0] == \"append\":\n",
    "\n",
    "            List.append(int(command[1]))\n",
    "\n",
    "        elif command[0] == \"pop\":\n",
    "\n",
    "            List.pop();\n",
    "\n",
    "        elif command[0] == \"print\":\n",
    "\n",
    "            print(List)\n",
    "\n",
    "        elif command[0] == \"remove\":\n",
    "\n",
    "            List.remove(int(command[1]))\n",
    "\n",
    "        elif command[0] == \"sort\":\n",
    "\n",
    "            List.sort();\n",
    "\n",
    "        else:\n",
    "\n",
    "            List.reverse();"
   ]
  },
  {
   "cell_type": "code",
   "execution_count": null,
   "id": "ec052682",
   "metadata": {},
   "outputs": [],
   "source": []
  }
 ],
 "metadata": {
  "kernelspec": {
   "display_name": "Python 3 (ipykernel)",
   "language": "python",
   "name": "python3"
  },
  "language_info": {
   "codemirror_mode": {
    "name": "ipython",
    "version": 3
   },
   "file_extension": ".py",
   "mimetype": "text/x-python",
   "name": "python",
   "nbconvert_exporter": "python",
   "pygments_lexer": "ipython3",
   "version": "3.11.4"
  }
 },
 "nbformat": 4,
 "nbformat_minor": 5
}
