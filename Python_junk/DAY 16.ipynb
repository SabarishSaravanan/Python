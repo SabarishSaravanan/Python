{
 "cells": [
  {
   "cell_type": "code",
   "execution_count": 1,
   "id": "ef4ddf68",
   "metadata": {},
   "outputs": [],
   "source": [
    "def display_board(board):\n",
    "    print(' '+board[7]+'|'+board[8]+'|'+board[9])\n",
    "    print('--------')\n",
    "    print(' '+board[4]+'|'+board[5]+'|'+board[6])\n",
    "    print('--------')\n",
    "    print(' '+board[1]+'|'+board[2]+'|'+board[3])\n",
    "    \n",
    "def player_input():\n",
    "    player1=input(\"You want to be X or 0: \")\n",
    "    player1 =player1.upper()\n",
    "    while player1!=\"X\" and player1!=\"O\":\n",
    "        player1=input(\"Invalid Input,Enter X or O: \")\n",
    "        player1 =player1.upper()\n",
    "    print(\"player1 is \"+player1)\n",
    "    \n",
    "    \n",
    "    if player1=='X':\n",
    "        player2='O'\n",
    "        print(\"player2 is O\")\n",
    "    else:\n",
    "        player2='X'\n",
    "        print(\"player2 is X\")\n",
    "    return player1,player2\n",
    "\n",
    "def place_marker(board, player1, position):\n",
    "    board[position]=player1\n",
    "    \n",
    "def win_check(board, mark):\n",
    "    return ((board[1] == mark and board[2] == mark and board[3] == mark) or\n",
    "            (board[4] == mark and board[5] == mark and board[6] == mark) or\n",
    "            (board[7] == mark and board[8] == mark and board[9] == mark) or\n",
    "            (board[1] == mark and board[4] == mark and board[7] == mark) or\n",
    "            (board[2] == mark and board[5] == mark and board[8] == mark) or\n",
    "            (board[3] == mark and board[6] == mark and board[9] == mark) or\n",
    "            (board[7] == mark and board[5] == mark and board[3] == mark) or\n",
    "            (board[1] == mark and board[5] == mark and board[9] == mark))\n",
    "\n",
    "import random\n",
    "def choose_first():\n",
    "    if random.randint(0, 1) == 0:\n",
    "        return 'Player 2'\n",
    "    else:\n",
    "        return 'Player 1'\n",
    "    \n",
    "def space_check(board, position):\n",
    "    return board[position]==\" \"\n",
    "\n",
    "\n",
    "def full_board_check(board):\n",
    "    for position in range(1, 10):\n",
    "        if space_check(board, position):\n",
    "            return False\n",
    "    return True\n"
   ]
  },
  {
   "cell_type": "code",
   "execution_count": null,
   "id": "0d3ee7ae",
   "metadata": {},
   "outputs": [],
   "source": [
    "\"\"\"Write a function that asks for a player's next position (as a number 1-9) and then uses the function from step 6 to check\n",
    "if it's a free position. If it is, then return the position for later use.\"\"\"\n",
    "def player_choice(board):\n",
    "    position=input(\"enter the position:\")\n",
    "    if space_check==True"
   ]
  },
  {
   "cell_type": "code",
   "execution_count": 4,
   "id": "40ec6a62",
   "metadata": {},
   "outputs": [],
   "source": [
    "def greet():\n",
    "    name = \"Sammy\"\n",
    "    print(name)"
   ]
  },
  {
   "cell_type": "code",
   "execution_count": 7,
   "id": "482c559a",
   "metadata": {},
   "outputs": [
    {
     "name": "stdout",
     "output_type": "stream",
     "text": [
      "Sammy\n"
     ]
    }
   ],
   "source": [
    "greet()"
   ]
  },
  {
   "cell_type": "code",
   "execution_count": null,
   "id": "7a70db3a",
   "metadata": {},
   "outputs": [],
   "source": []
  }
 ],
 "metadata": {
  "kernelspec": {
   "display_name": "Python 3 (ipykernel)",
   "language": "python",
   "name": "python3"
  },
  "language_info": {
   "codemirror_mode": {
    "name": "ipython",
    "version": 3
   },
   "file_extension": ".py",
   "mimetype": "text/x-python",
   "name": "python",
   "nbconvert_exporter": "python",
   "pygments_lexer": "ipython3",
   "version": "3.11.4"
  }
 },
 "nbformat": 4,
 "nbformat_minor": 5
}
