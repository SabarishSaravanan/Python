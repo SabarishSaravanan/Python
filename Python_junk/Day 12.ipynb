{
 "cells": [
  {
   "cell_type": "code",
   "execution_count": 1,
   "id": "cc1dc004",
   "metadata": {},
   "outputs": [],
   "source": [
    "choice='wrong'"
   ]
  },
  {
   "cell_type": "code",
   "execution_count": 2,
   "id": "fdc61ae8",
   "metadata": {},
   "outputs": [
    {
     "data": {
      "text/plain": [
       "str"
      ]
     },
     "execution_count": 2,
     "metadata": {},
     "output_type": "execute_result"
    }
   ],
   "source": [
    "type(choice)"
   ]
  },
  {
   "cell_type": "code",
   "execution_count": 3,
   "id": "bd605a60",
   "metadata": {},
   "outputs": [
    {
     "data": {
      "text/plain": [
       "False"
      ]
     },
     "execution_count": 3,
     "metadata": {},
     "output_type": "execute_result"
    }
   ],
   "source": [
    "choice.isdigit()"
   ]
  },
  {
   "cell_type": "code",
   "execution_count": 6,
   "id": "05347f25",
   "metadata": {},
   "outputs": [],
   "source": [
    "def choice_didit():\n",
    "    choice='wrong'\n",
    "    while choice.isdigit()==False:\n",
    "        choice=input(\"enter the number:\")\n",
    "    return int(choice)"
   ]
  },
  {
   "cell_type": "code",
   "execution_count": 7,
   "id": "0c219705",
   "metadata": {},
   "outputs": [
    {
     "name": "stdout",
     "output_type": "stream",
     "text": [
      "enter the number:hello\n",
      "enter the number:77\n"
     ]
    },
    {
     "data": {
      "text/plain": [
       "77"
      ]
     },
     "execution_count": 7,
     "metadata": {},
     "output_type": "execute_result"
    }
   ],
   "source": [
    "choice_didit()"
   ]
  },
  {
   "cell_type": "code",
   "execution_count": 12,
   "id": "4d344f15",
   "metadata": {},
   "outputs": [],
   "source": [
    "def choice_digit():\n",
    "    choice='word'\n",
    "    while choice.isdigit()==False:\n",
    "        choice=input(\"enter the number:\")\n",
    "    return int(choice)"
   ]
  },
  {
   "cell_type": "code",
   "execution_count": 13,
   "id": "fd095f54",
   "metadata": {},
   "outputs": [
    {
     "name": "stdout",
     "output_type": "stream",
     "text": [
      "enter the number:k\n",
      "enter the number:l\n",
      "enter the number:2\n"
     ]
    },
    {
     "data": {
      "text/plain": [
       "2"
      ]
     },
     "execution_count": 13,
     "metadata": {},
     "output_type": "execute_result"
    }
   ],
   "source": [
    "choice_digit()"
   ]
  },
  {
   "cell_type": "code",
   "execution_count": 14,
   "id": "55cbaf62",
   "metadata": {},
   "outputs": [],
   "source": [
    "choice='wrong'"
   ]
  },
  {
   "cell_type": "code",
   "execution_count": 15,
   "id": "5c5b6215",
   "metadata": {},
   "outputs": [
    {
     "data": {
      "text/plain": [
       "False"
      ]
     },
     "execution_count": 15,
     "metadata": {},
     "output_type": "execute_result"
    }
   ],
   "source": [
    "choice.isdigit()"
   ]
  },
  {
   "cell_type": "code",
   "execution_count": 5,
   "id": "d8c81f89",
   "metadata": {},
   "outputs": [],
   "source": [
    "gameList=[0,1,2]"
   ]
  },
  {
   "cell_type": "code",
   "execution_count": 6,
   "id": "3863f3a2",
   "metadata": {},
   "outputs": [],
   "source": [
    "def Display(gameList):\n",
    "    print(gameList)"
   ]
  },
  {
   "cell_type": "code",
   "execution_count": 7,
   "id": "687a2a91",
   "metadata": {},
   "outputs": [
    {
     "name": "stdout",
     "output_type": "stream",
     "text": [
      "[0, 1, 2]\n"
     ]
    }
   ],
   "source": [
    "Display(gameList)"
   ]
  },
  {
   "cell_type": "code",
   "execution_count": 7,
   "id": "fd312fa3",
   "metadata": {},
   "outputs": [],
   "source": [
    "def positional():\n",
    "    position=(input(\"Enter a num: \"))\n",
    "    while position not in ['0','1','2']:\n",
    "        position=(input(\"Enter a num 0 or 1 0r 2: \"))\n",
    "    return int(position)"
   ]
  },
  {
   "cell_type": "code",
   "execution_count": 8,
   "id": "dcf73737",
   "metadata": {},
   "outputs": [
    {
     "name": "stdout",
     "output_type": "stream",
     "text": [
      "Enter a num: 2\n"
     ]
    },
    {
     "data": {
      "text/plain": [
       "2"
      ]
     },
     "execution_count": 8,
     "metadata": {},
     "output_type": "execute_result"
    }
   ],
   "source": [
    "positional()"
   ]
  },
  {
   "cell_type": "code",
   "execution_count": 10,
   "id": "50c9c5be",
   "metadata": {},
   "outputs": [],
   "source": [
    "gameList=[0,1,2]\n",
    "\n",
    "def Display(gameList):\n",
    "    print(gameList)\n",
    "    \n",
    "def positional():\n",
    "    position=(input(\"Enter a num: \"))\n",
    "    while position not in ['0','1','2']:\n",
    "        position=(input(\"Enter a num 0 or 1 0r 2: \"))\n",
    "    return int(position)"
   ]
  },
  {
   "cell_type": "code",
   "execution_count": 18,
   "id": "811e01ff",
   "metadata": {},
   "outputs": [],
   "source": [
    "def replacement(gameList,position):\n",
    "    replace=input(\"enter the key to replace\")\n",
    "    gameList[position]=replace\n",
    "    return gameList"
   ]
  },
  {
   "cell_type": "code",
   "execution_count": 19,
   "id": "4aba608f",
   "metadata": {},
   "outputs": [
    {
     "name": "stdout",
     "output_type": "stream",
     "text": [
      "enter the key to replace3\n"
     ]
    },
    {
     "data": {
      "text/plain": [
       "[0, 1, '3']"
      ]
     },
     "execution_count": 19,
     "metadata": {},
     "output_type": "execute_result"
    }
   ],
   "source": [
    "replacement(gameList,2)"
   ]
  },
  {
   "cell_type": "code",
   "execution_count": 21,
   "id": "59c154b3",
   "metadata": {},
   "outputs": [],
   "source": [
    "gameList=[0,1,2]\n",
    "\n",
    "def Display(gameList):\n",
    "    print(gameList)\n",
    "    \n",
    "def positional():\n",
    "    position=(input(\"Enter a num: \"))\n",
    "    while position not in ['0','1','2']:\n",
    "        position=(input(\"Enter a num 0 or 1 0r 2: \"))\n",
    "    return int(position)\n",
    "def replacement(gameList,position):\n",
    "    replace=input(\"enter the key to replace\")\n",
    "    gameList[position]=replace\n",
    "    return gameList"
   ]
  },
  {
   "cell_type": "code",
   "execution_count": 22,
   "id": "5271010f",
   "metadata": {},
   "outputs": [
    {
     "name": "stdout",
     "output_type": "stream",
     "text": [
      "[0, 1, 2]\n",
      "Enter a num: 2\n",
      "enter the key to replacehello\n",
      "[0, 1, 'hello']\n"
     ]
    }
   ],
   "source": [
    "gameList = [0, 1, 2]\n",
    "\n",
    "# Display the initial gameList\n",
    "Display(gameList)\n",
    "\n",
    "# Get a valid position from the user\n",
    "position = positional()\n",
    "\n",
    "# Replace the element at the specified position\n",
    "newList = replacement(gameList, position)\n",
    "\n",
    "Display(newList)\n"
   ]
  },
  {
   "cell_type": "code",
   "execution_count": 15,
   "id": "a69e069f",
   "metadata": {},
   "outputs": [],
   "source": [
    "def display():\n",
    "    board =[\n",
    "    [\"X\", \"O\", \"X\"],\n",
    "    [\"O\", \"X\", \"O\"],\n",
    "    [\"X\", \"X\", \" \"]\n",
    "    ]\n",
    "    print(board)\n"
   ]
  },
  {
   "cell_type": "code",
   "execution_count": 16,
   "id": "50c384a6",
   "metadata": {},
   "outputs": [
    {
     "name": "stdout",
     "output_type": "stream",
     "text": [
      "[['X', 'O', 'X'], ['O', 'X', 'O'], ['X', 'X', ' ']]\n"
     ]
    }
   ],
   "source": [
    "display()"
   ]
  },
  {
   "cell_type": "code",
   "execution_count": null,
   "id": "995a850c",
   "metadata": {},
   "outputs": [],
   "source": []
  }
 ],
 "metadata": {
  "kernelspec": {
   "display_name": "Python 3 (ipykernel)",
   "language": "python",
   "name": "python3"
  },
  "language_info": {
   "codemirror_mode": {
    "name": "ipython",
    "version": 3
   },
   "file_extension": ".py",
   "mimetype": "text/x-python",
   "name": "python",
   "nbconvert_exporter": "python",
   "pygments_lexer": "ipython3",
   "version": "3.11.4"
  }
 },
 "nbformat": 4,
 "nbformat_minor": 5
}
