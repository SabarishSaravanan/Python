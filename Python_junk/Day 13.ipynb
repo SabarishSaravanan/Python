{
 "cells": [
  {
   "cell_type": "code",
   "execution_count": 6,
   "id": "bc31903b",
   "metadata": {},
   "outputs": [
    {
     "name": "stdout",
     "output_type": "stream",
     "text": [
      "   |   |\n"
     ]
    },
    {
     "ename": "NameError",
     "evalue": "name 'board' is not defined",
     "output_type": "error",
     "traceback": [
      "\u001b[1;31m---------------------------------------------------------------------------\u001b[0m",
      "\u001b[1;31mNameError\u001b[0m                                 Traceback (most recent call last)",
      "Cell \u001b[1;32mIn[6], line 2\u001b[0m\n\u001b[0;32m      1\u001b[0m \u001b[38;5;28mprint\u001b[39m(\u001b[38;5;124m'\u001b[39m\u001b[38;5;124m   |   |\u001b[39m\u001b[38;5;124m'\u001b[39m)\n\u001b[1;32m----> 2\u001b[0m \u001b[38;5;28mprint\u001b[39m(\u001b[38;5;124m'\u001b[39m\u001b[38;5;124m \u001b[39m\u001b[38;5;124m'\u001b[39m \u001b[38;5;241m+\u001b[39m board[\u001b[38;5;241m7\u001b[39m] \u001b[38;5;241m+\u001b[39m \u001b[38;5;124m'\u001b[39m\u001b[38;5;124m | \u001b[39m\u001b[38;5;124m'\u001b[39m \u001b[38;5;241m+\u001b[39m board[\u001b[38;5;241m8\u001b[39m] \u001b[38;5;241m+\u001b[39m \u001b[38;5;124m'\u001b[39m\u001b[38;5;124m | \u001b[39m\u001b[38;5;124m'\u001b[39m \u001b[38;5;241m+\u001b[39m board[\u001b[38;5;241m9\u001b[39m])\n\u001b[0;32m      3\u001b[0m \u001b[38;5;28mprint\u001b[39m(\u001b[38;5;124m'\u001b[39m\u001b[38;5;124m   |   |\u001b[39m\u001b[38;5;124m'\u001b[39m)\n\u001b[0;32m      4\u001b[0m \u001b[38;5;28mprint\u001b[39m(\u001b[38;5;124m'\u001b[39m\u001b[38;5;124m-----------\u001b[39m\u001b[38;5;124m'\u001b[39m)\n",
      "\u001b[1;31mNameError\u001b[0m: name 'board' is not defined"
     ]
    }
   ],
   "source": [
    "print('   |   |')\n",
    "print(' ' + board[7] + ' | ' + board[8] + ' | ' + board[9])\n",
    "print('   |   |')\n",
    "print('-----------')\n",
    "print('   |   |')\n",
    "print(' ' + board[4] + ' | ' + board[5] + ' | ' + board[6])\n",
    "print('   |   |')\n",
    "print('-----------')\n",
    "print('   |   |')\n",
    "print(' ' + board[1] + ' | ' + board[2] + ' | ' + board[3])\n",
    "print('   |   |')"
   ]
  },
  {
   "cell_type": "code",
   "execution_count": 34,
   "id": "8c95ce84",
   "metadata": {},
   "outputs": [],
   "source": [
    "def display_board(board):\n",
    "    print(' '+board[7]+'|'+board[8]+'|'+board[9])\n",
    "    print('--------')\n",
    "    print(' '+board[4]+'|'+board[5]+'|'+board[6])\n",
    "    print('--------')\n",
    "    print(' '+board[1]+'|'+board[2]+'|'+board[3])"
   ]
  },
  {
   "cell_type": "code",
   "execution_count": 35,
   "id": "dda11b5c",
   "metadata": {},
   "outputs": [
    {
     "name": "stdout",
     "output_type": "stream",
     "text": [
      " o|x|o\n",
      "--------\n",
      " o|o|o\n",
      "--------\n",
      " x|x|x\n"
     ]
    }
   ],
   "source": [
    "display_board(['x','x','x','x','o','o','o','o','x','o'])"
   ]
  },
  {
   "cell_type": "code",
   "execution_count": null,
   "id": "aa58a761",
   "metadata": {},
   "outputs": [],
   "source": []
  },
  {
   "cell_type": "code",
   "execution_count": null,
   "id": "f30af22c",
   "metadata": {},
   "outputs": [],
   "source": []
  }
 ],
 "metadata": {
  "kernelspec": {
   "display_name": "Python 3 (ipykernel)",
   "language": "python",
   "name": "python3"
  },
  "language_info": {
   "codemirror_mode": {
    "name": "ipython",
    "version": 3
   },
   "file_extension": ".py",
   "mimetype": "text/x-python",
   "name": "python",
   "nbconvert_exporter": "python",
   "pygments_lexer": "ipython3",
   "version": "3.11.4"
  }
 },
 "nbformat": 4,
 "nbformat_minor": 5
}
