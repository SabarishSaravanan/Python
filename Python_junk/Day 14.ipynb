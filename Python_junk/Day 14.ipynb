{
 "cells": [
  {
   "cell_type": "code",
   "execution_count": 1,
   "id": "a2030fdb",
   "metadata": {},
   "outputs": [],
   "source": [
    "def display_board(board):\n",
    "    print(' '+board[7]+'|'+board[8]+'|'+board[9])\n",
    "    print('--------')\n",
    "    print(' '+board[4]+'|'+board[5]+'|'+board[6])\n",
    "    print('--------')\n",
    "    print(' '+board[1]+'|'+board[2]+'|'+board[3])"
   ]
  },
  {
   "cell_type": "code",
   "execution_count": 4,
   "id": "b9e1050c",
   "metadata": {},
   "outputs": [
    {
     "name": "stdout",
     "output_type": "stream",
     "text": [
      " o|x|o\n",
      "--------\n",
      " o|o|o\n",
      "--------\n",
      " x|x|x\n"
     ]
    }
   ],
   "source": [
    "display_board(['x','x','x','x','o','o','o','o','x','o'])"
   ]
  },
  {
   "cell_type": "code",
   "execution_count": 22,
   "id": "cae0188f",
   "metadata": {},
   "outputs": [],
   "source": [
    "def player_input():\n",
    "    player1=input(\"You want to be X or 0: \")\n",
    "    player1 =player1.upper()\n",
    "    while player1!=\"X\" and player1!=\"O\":\n",
    "        player1=input(\"Invalid Input,Enter X or O: \")\n",
    "        player1 =player1.upper()\n",
    "    print(\"player1 is \"+player1)\n",
    "    \n",
    "    \n",
    "    if player1=='X':\n",
    "        player2='O'\n",
    "        print(\"player2 is O\")\n",
    "    else:\n",
    "        player2='X'\n",
    "        print(\"player2 is X\")\n",
    "    return player1,player2"
   ]
  },
  {
   "cell_type": "code",
   "execution_count": 23,
   "id": "ff6e8d50",
   "metadata": {},
   "outputs": [
    {
     "name": "stdout",
     "output_type": "stream",
     "text": [
      "You want to be X or 0: x\n",
      "player1 is X\n",
      "player2 is O\n"
     ]
    },
    {
     "data": {
      "text/plain": [
       "('X', 'O')"
      ]
     },
     "execution_count": 23,
     "metadata": {},
     "output_type": "execute_result"
    }
   ],
   "source": [
    "player_input()"
   ]
  },
  {
   "cell_type": "code",
   "execution_count": null,
   "id": "b8afa056",
   "metadata": {},
   "outputs": [],
   "source": []
  },
  {
   "cell_type": "code",
   "execution_count": null,
   "id": "38d2b41e",
   "metadata": {},
   "outputs": [],
   "source": []
  }
 ],
 "metadata": {
  "kernelspec": {
   "display_name": "Python 3 (ipykernel)",
   "language": "python",
   "name": "python3"
  },
  "language_info": {
   "codemirror_mode": {
    "name": "ipython",
    "version": 3
   },
   "file_extension": ".py",
   "mimetype": "text/x-python",
   "name": "python",
   "nbconvert_exporter": "python",
   "pygments_lexer": "ipython3",
   "version": "3.11.4"
  }
 },
 "nbformat": 4,
 "nbformat_minor": 5
}
