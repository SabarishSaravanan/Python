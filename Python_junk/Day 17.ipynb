{
 "cells": [
  {
   "cell_type": "code",
   "execution_count": 1,
   "id": "fec4f0fa",
   "metadata": {},
   "outputs": [
    {
     "name": "stdout",
     "output_type": "stream",
     "text": [
      "Buddy is 3 years old.\n",
      "Buddy says Woof!\n",
      "Max is 2 years old.\n",
      "Max says Woof!\n"
     ]
    }
   ],
   "source": [
    "class Dog:\n",
    "    def __init__(self, name, age):\n",
    "        self.name = name\n",
    "        self.age = age\n",
    "\n",
    "    def bark(self):\n",
    "        print(f\"{self.name} says Woof!\")\n",
    "\n",
    "# Create instances of the Dog class\n",
    "dog1 = Dog(\"Buddy\", 3)\n",
    "dog2 = Dog(\"Max\", 2)\n",
    "\n",
    "# Access attributes and call methods\n",
    "print(f\"{dog1.name} is {dog1.age} years old.\")\n",
    "dog1.bark()\n",
    "\n",
    "print(f\"{dog2.name} is {dog2.age} years old.\")\n",
    "dog2.bark()\n"
   ]
  },
  {
   "cell_type": "code",
   "execution_count": null,
   "id": "4c8e35c7",
   "metadata": {},
   "outputs": [],
   "source": []
  }
 ],
 "metadata": {
  "kernelspec": {
   "display_name": "Python 3 (ipykernel)",
   "language": "python",
   "name": "python3"
  },
  "language_info": {
   "codemirror_mode": {
    "name": "ipython",
    "version": 3
   },
   "file_extension": ".py",
   "mimetype": "text/x-python",
   "name": "python",
   "nbconvert_exporter": "python",
   "pygments_lexer": "ipython3",
   "version": "3.11.4"
  }
 },
 "nbformat": 4,
 "nbformat_minor": 5
}
