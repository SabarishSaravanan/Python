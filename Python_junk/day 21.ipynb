{
 "cells": [
  {
   "cell_type": "code",
   "execution_count": 7,
   "id": "427f91b9",
   "metadata": {},
   "outputs": [
    {
     "name": "stdout",
     "output_type": "stream",
     "text": [
      "2\n",
      "a\n",
      "7\n",
      "[['a', 7.0]]\n",
      "b\n",
      "4\n",
      "[['a', 7.0], ['b', 4.0]]\n"
     ]
    },
    {
     "ename": "AttributeError",
     "evalue": "'float' object has no attribute 'sort'",
     "output_type": "error",
     "traceback": [
      "\u001b[1;31m---------------------------------------------------------------------------\u001b[0m",
      "\u001b[1;31mAttributeError\u001b[0m                            Traceback (most recent call last)",
      "Cell \u001b[1;32mIn[7], line 9\u001b[0m\n\u001b[0;32m      7\u001b[0m     \u001b[38;5;28mprint\u001b[39m(wholerecord)\n\u001b[0;32m      8\u001b[0m \u001b[38;5;28;01mfor\u001b[39;00m name,score \u001b[38;5;129;01min\u001b[39;00m wholerecord:\n\u001b[1;32m----> 9\u001b[0m     record[\u001b[38;5;241m1\u001b[39m]\u001b[38;5;241m.\u001b[39msort() \n\u001b[0;32m     10\u001b[0m     \u001b[38;5;28mprint\u001b[39m(\u001b[38;5;124m\"\u001b[39m\u001b[38;5;124mSorted scores for\u001b[39m\u001b[38;5;124m\"\u001b[39m, record[\u001b[38;5;241m0\u001b[39m], \u001b[38;5;124m\"\u001b[39m\u001b[38;5;124m:\u001b[39m\u001b[38;5;124m\"\u001b[39m, record[\u001b[38;5;241m1\u001b[39m])\n",
      "\u001b[1;31mAttributeError\u001b[0m: 'float' object has no attribute 'sort'"
     ]
    }
   ],
   "source": [
    "wholerecord=[]\n",
    "for _ in range(int(input())):\n",
    "    name = input()\n",
    "    score = float(input())\n",
    "    record=[name,score]\n",
    "    wholerecord.append(record)\n",
    "    print(wholerecord)\n",
    "for name,score in wholerecord:\n",
    "    record[1].sort() \n",
    "    print(\"Sorted scores for\", record[0], \":\", record[1])"
   ]
  },
  {
   "cell_type": "code",
   "execution_count": null,
   "id": "a9b4d0b6",
   "metadata": {},
   "outputs": [],
   "source": []
  },
  {
   "cell_type": "code",
   "execution_count": null,
   "id": "eeb98794",
   "metadata": {},
   "outputs": [],
   "source": [
    "list = []"
   ]
  }
 ],
 "metadata": {
  "kernelspec": {
   "display_name": "Python 3 (ipykernel)",
   "language": "python",
   "name": "python3"
  },
  "language_info": {
   "codemirror_mode": {
    "name": "ipython",
    "version": 3
   },
   "file_extension": ".py",
   "mimetype": "text/x-python",
   "name": "python",
   "nbconvert_exporter": "python",
   "pygments_lexer": "ipython3",
   "version": "3.11.4"
  }
 },
 "nbformat": 4,
 "nbformat_minor": 5
}
